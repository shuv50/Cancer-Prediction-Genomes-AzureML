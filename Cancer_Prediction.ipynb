{
  "cells": [
    {
      "cell_type": "markdown",
      "metadata": {
        "id": "O5G7hGW63fr0"
      },
      "source": [
        "# Import libraries"
      ]
    },
    {
      "cell_type": "code",
      "execution_count": null,
      "metadata": {
        "id": "pNpBINsV-5AT"
      },
      "outputs": [],
      "source": [
        "# Import libraries\n",
        "import pandas as pd\n",
        "import numpy as np\n",
        "import matplotlib.pyplot as plt\n",
        "import random\n",
        "from matplotlib.colors import ListedColormap\n",
        "import seaborn as sns\n",
        "from sklearn.preprocessing import LabelEncoder\n",
        "from sklearn.preprocessing import StandardScaler\n",
        "from sklearn.model_selection import train_test_split\n",
        "from sklearn.ensemble import RandomForestClassifier\n",
        "from sklearn import metrics\n",
        "from sklearn.metrics import accuracy_score\n",
        "from sklearn.metrics import classification_report\n",
        "from sklearn.metrics import precision_recall_curve\n",
        "from sklearn.metrics import confusion_matrix\n",
        "from sklearn.metrics import f1_score\n",
        "import xgboost as xgb\n",
        "from sklearn.svm import SVC\n",
        "from sklearn.metrics import roc_curve, roc_auc_score\n",
        "from sklearn.metrics import precision_recall_curve\n",
        "from sklearn.preprocessing import label_binarize"
      ]
    },
    {
      "cell_type": "markdown",
      "metadata": {
        "id": "LQ2hLU8A3h3J"
      },
      "source": [
        "# Import data"
      ]
    },
    {
      "cell_type": "code",
      "execution_count": null,
      "metadata": {
        "id": "zdIYJ8Df_Hrp"
      },
      "outputs": [],
      "source": [
        "# Pan Cancer dataframe\n",
        "pan_cancer_df = pd.DataFrame()\n",
        "\n",
        "# Cancer types\n",
        "cancers = ['kich', 'acc', 'blca', 'brca', 'cesc', 'esca', 'kirk', 'laml', 'lgg', 'lich', 'ov', 'paad', 'prad', 'read', 'tgct', 'thca']\n",
        "cancers_ = ['luad', 'ucec', 'coad', 'skcm']\n",
        "\n",
        "# Import data\n",
        "# 100%\n",
        "for cancer in cancers:\n",
        "  data = pd.read_csv(f'/content/{cancer}.csv')\n",
        "  data['project_id'] = cancer.upper()\n",
        "\n",
        "  pan_cancer_df = pd.concat([pan_cancer_df, data], ignore_index=True)\n",
        "\n",
        "# 50%\n",
        "for cancer in cancers_:\n",
        "  data = pd.read_csv(f'/content/{cancer}.csv')\n",
        "  data['project_id'] = cancer.upper()\n",
        "  rows_fifty_perc = int(0.5 * len(data))\n",
        "  data_fifty_perc = data.sample(n=rows_fifty_perc, random_state=42)\n",
        "  pan_cancer_df = pd.concat([pan_cancer_df, data_fifty_perc], ignore_index=True)"
      ]
    },
    {
      "cell_type": "code",
      "source": [
        "#pan_cancer_df.to_csv('/content/pan_cancer_data.csv')\n",
        "#pan_cancer_df = pd.read_csv('/content/pan_cancer_data.csv')"
      ],
      "metadata": {
        "id": "NgWO-grFWi5Q"
      },
      "execution_count": null,
      "outputs": []
    },
    {
      "cell_type": "markdown",
      "metadata": {
        "id": "nnyP1ba48d1U"
      },
      "source": [
        "## Shape of cancer data"
      ]
    },
    {
      "cell_type": "code",
      "execution_count": null,
      "metadata": {
        "id": "MkcDQIkU8TKx"
      },
      "outputs": [],
      "source": [
        "# Shape\n",
        "pan_cancer_df.shape"
      ]
    },
    {
      "cell_type": "markdown",
      "metadata": {
        "id": "KnIeeCtbJuts"
      },
      "source": [
        "## Dataframe info"
      ]
    },
    {
      "cell_type": "code",
      "execution_count": null,
      "metadata": {
        "id": "1gxLbgov8xO-"
      },
      "outputs": [],
      "source": [
        "# Dataframe info\n",
        "pan_cancer_df.info()"
      ]
    },
    {
      "cell_type": "markdown",
      "metadata": {
        "id": "pwGsCl1qKfRS"
      },
      "source": [
        "# Data Preprocessing I"
      ]
    },
    {
      "cell_type": "markdown",
      "metadata": {
        "id": "9xtUvlhMK7kS"
      },
      "source": [
        "## Rename columns"
      ]
    },
    {
      "cell_type": "code",
      "execution_count": null,
      "metadata": {
        "id": "mwnbmdycK65z"
      },
      "outputs": [],
      "source": [
        "# Columns to lowercase\n",
        "pan_cancer_df.columns = pan_cancer_df.columns.str.lower()\n",
        "\n",
        "# Rename columns\n",
        "pan_cancer_df.rename(columns={'#\"chrom\"':'chrom', 'project_id':'cancer_type', 'variant_classification':'variant', 'matched_norm_sample_barcode':'barcode'}, inplace=True)"
      ]
    },
    {
      "cell_type": "markdown",
      "source": [
        "## Reject records"
      ],
      "metadata": {
        "id": "W0D4mwndy9jW"
      }
    },
    {
      "cell_type": "code",
      "source": [
        "# Multiple sample counts have multiple gender values\n",
        "pan_cancer_df['gender'].nunique()"
      ],
      "metadata": {
        "id": "iMGbOtVf6EOf"
      },
      "execution_count": null,
      "outputs": []
    },
    {
      "cell_type": "code",
      "source": [
        "# Get single sample count records only\n",
        "pan_cancer_df = pan_cancer_df[pan_cancer_df['samplecount'] == 1]\n",
        "\n",
        "# Check gender values\n",
        "pan_cancer_df['gender'].unique()"
      ],
      "metadata": {
        "id": "wuKxGebPy8-9"
      },
      "execution_count": null,
      "outputs": []
    },
    {
      "cell_type": "markdown",
      "metadata": {
        "id": "rRQqJvhicPDd"
      },
      "source": [
        "## Replacing '--' with nulls"
      ]
    },
    {
      "cell_type": "code",
      "source": [
        "# Raw data has null values with dashes '--'\n",
        "pan_cancer_df.head(1)"
      ],
      "metadata": {
        "id": "CSytOOyP6UPP"
      },
      "execution_count": null,
      "outputs": []
    },
    {
      "cell_type": "code",
      "execution_count": null,
      "metadata": {
        "id": "KPpDO-r3cM6V"
      },
      "outputs": [],
      "source": [
        "# Replace '--' with nan\n",
        "pan_cancer_df.replace('--', np.nan, inplace=True)\n",
        "pan_cancer_df.head(1)"
      ]
    },
    {
      "cell_type": "markdown",
      "metadata": {
        "id": "bo0oUjoRKJG6"
      },
      "source": [
        "## Check missing values"
      ]
    },
    {
      "cell_type": "code",
      "execution_count": null,
      "metadata": {
        "id": "PLLbWKNvDaAZ"
      },
      "outputs": [],
      "source": [
        "# Check missing values\n",
        "pan_cancer_df.isnull().sum()"
      ]
    },
    {
      "cell_type": "markdown",
      "metadata": {
        "id": "QJg3B5xyccBn"
      },
      "source": [
        "## Drop columns"
      ]
    },
    {
      "cell_type": "code",
      "execution_count": null,
      "metadata": {
        "id": "NXZlNWVrcfhJ"
      },
      "outputs": [],
      "source": [
        "# Drop based on null values\n",
        "pan_cancer_df.drop(columns=['dbsnp_rs', 'dbsnp_val_status', 'days_to_death', 'cigarettes_per_day', 'weight', 'alcohol_history', 'alcohol_intensity', 'years_smoked', 'height', 'ethnicity', 'bmi'], inplace=True)\n",
        "\n",
        "# Drop based on insignificance\n",
        "pan_cancer_df.drop(columns=['case_id', 'reserved', 'blockcount', 'score', 'strand', 'chromstarts', 'samplecount', 'tumor_sample_barcode', 'entrez_gene_id'], inplace=True)\n"
      ]
    },
    {
      "cell_type": "markdown",
      "metadata": {
        "id": "D9Vn7lQEDn01"
      },
      "source": [
        "## Handle missing values"
      ]
    },
    {
      "cell_type": "code",
      "source": [
        "# Calculate the distribution of existing gender values\n",
        "gender_distribution = pan_cancer_df['gender'].value_counts(normalize=True)\n",
        "\n",
        "# Create a mask for null gender values\n",
        "null_mask = pan_cancer_df['gender'].isnull()\n",
        "\n",
        "# Fill null gender values with random genders based on the distribution\n",
        "random_genders = np.random.choice(gender_distribution.index, size=null_mask.sum(), p=gender_distribution.values)\n",
        "pan_cancer_df.loc[null_mask, 'gender'] = random_genders\n",
        "\n",
        "# Check nulls after handling missing values\n",
        "pan_cancer_df.isnull().sum()"
      ],
      "metadata": {
        "id": "v6RSHVVar4K7"
      },
      "execution_count": null,
      "outputs": []
    },
    {
      "cell_type": "code",
      "source": [
        "#pan_cancer_df = pan_cancer_df[['chrom', 'chromstart', 'chromend', 'name', 'freq', 'variant', 'variant_type', 'tumor_seq_allele2', 'gender', 'cancer_type']]\n",
        "#pan_cancer_df.to_csv('content/preprocessed_pan_cancer_data.csv')"
      ],
      "metadata": {
        "id": "or2UhPaczfbV"
      },
      "execution_count": null,
      "outputs": []
    },
    {
      "cell_type": "markdown",
      "metadata": {
        "id": "w_Yh2OFJw5ee"
      },
      "source": [
        "# Data Analysis"
      ]
    },
    {
      "cell_type": "markdown",
      "metadata": {
        "id": "aXBXO-bYw7vZ"
      },
      "source": [
        "## Total number of patients"
      ]
    },
    {
      "cell_type": "code",
      "execution_count": null,
      "metadata": {
        "id": "zN1nRQEandFh"
      },
      "outputs": [],
      "source": [
        "# Total patients\n",
        "pan_cancer_df['barcode'].nunique()"
      ]
    },
    {
      "cell_type": "markdown",
      "source": [
        "## Total cancer types"
      ],
      "metadata": {
        "id": "MJGd-MUja0Dd"
      }
    },
    {
      "cell_type": "code",
      "source": [
        "# Total cancer types\n",
        "pan_cancer_df['cancer_type'].nunique()"
      ],
      "metadata": {
        "id": "K0sL99_4aXH8"
      },
      "execution_count": null,
      "outputs": []
    },
    {
      "cell_type": "markdown",
      "source": [
        "## Data of each cancer type"
      ],
      "metadata": {
        "id": "0TUKDjKHa3Vy"
      }
    },
    {
      "cell_type": "code",
      "source": [
        "# Data of each cancer type\n",
        "cancer_counts = pan_cancer_df['cancer_type'].value_counts().sample(frac=1, random_state=42)"
      ],
      "metadata": {
        "id": "KiYroeAsaxFn"
      },
      "execution_count": null,
      "outputs": []
    },
    {
      "cell_type": "code",
      "source": [
        "# Graph of number of records of each cancer types\n",
        "plt.figure(figsize=(12, 6))\n",
        "sns.barplot(x=cancer_counts.values, y=cancer_counts.index, orient='h', palette='viridis')\n",
        "plt.xlabel('Number of records')\n",
        "plt.ylabel('Cancer Types')\n",
        "plt.title('Number of records of each cancer types')\n",
        "plt.xticks(rotation=90)\n",
        "plt.tight_layout()\n",
        "plt.show()"
      ],
      "metadata": {
        "id": "H4PT7sz_dEtv"
      },
      "execution_count": null,
      "outputs": []
    },
    {
      "cell_type": "markdown",
      "source": [
        "\n",
        "\n",
        "```\n",
        "UCEC - Uterine Corpus Endometrial Carcinoma\n",
        "SKCM - Skin Cutaneous Melanoma\n",
        "BLCA - Bladder Urothelial Carcinoma         \n",
        "COAD - Colon Adenocarcinoma                 \n",
        "BRCA - Breast Invasive Carcinoma            \n",
        "LUAD - Lung Adenocarcinoma                  \n",
        "CESC - Cervical and Endocervical Cancer     \n",
        "OV   - Ovarian Serous Cystadenocarcinoma    \n",
        "READ - Rectum Adenocarcinoma                \n",
        "LICH - Liver Hepatocellular Carcinoma       \n",
        "ESCA - Esophageal Carcinoma                 \n",
        "LGG  - Brain Lower Grade Glioma             \n",
        "PAAD - Pancreatic Adenocarcinoma            \n",
        "PRAD - Prostate Adenocarcinoma              \n",
        "KIRK - Kidney Renal Clear Cell Carcinoma    \n",
        "ACC  - Adrenocortical Carcinoma             \n",
        "THCA - Thyroid Carcinoma                    \n",
        "LAML - Acute Myeloid Leukemia               \n",
        "TGCT - Testicular Germ Cell Tumors          \n",
        "KICH - Kidney Chromophobe\n",
        "\n",
        "```"
      ],
      "metadata": {
        "id": "4Ro_1ROD2Hry"
      }
    },
    {
      "cell_type": "markdown",
      "source": [
        "## Patients of each cancer type"
      ],
      "metadata": {
        "id": "Lr_PiH-nbB5M"
      }
    },
    {
      "cell_type": "code",
      "source": [
        "# Patients of each cancer type\n",
        "cancer_patient_counts = pan_cancer_df.groupby('cancer_type')['barcode'].nunique().sample(frac=1, random_state=42) #.sort_values(ascending=False)"
      ],
      "metadata": {
        "id": "pPXUobLpb_A5"
      },
      "execution_count": null,
      "outputs": []
    },
    {
      "cell_type": "code",
      "source": [
        "# Graph of number of patients of each cancer types\n",
        "plt.figure(figsize=(12, 6))\n",
        "sns.barplot(x=cancer_patient_counts.index, y=cancer_patient_counts.values, palette='husl')\n",
        "plt.xlabel('Cancer Types')\n",
        "plt.ylabel('Number of Patients')\n",
        "plt.title('Number of patients of each cancer types')\n",
        "plt.xticks(rotation=90)\n",
        "plt.tight_layout()\n",
        "plt.show()"
      ],
      "metadata": {
        "id": "9x_dkIv6e5Ao"
      },
      "execution_count": null,
      "outputs": []
    },
    {
      "cell_type": "markdown",
      "source": [
        "## Total variants"
      ],
      "metadata": {
        "id": "F2bDhBeyijY-"
      }
    },
    {
      "cell_type": "code",
      "source": [
        "# Total variants\n",
        "variant_counts = pan_cancer_df['variant'].value_counts().sample(frac=1, random_state=42)"
      ],
      "metadata": {
        "id": "IulyjJOFicv9"
      },
      "execution_count": null,
      "outputs": []
    },
    {
      "cell_type": "code",
      "source": [
        "# Graph of variant counts\n",
        "plt.figure(figsize=(12, 6))\n",
        "sns.barplot(x=variant_counts.values, y=variant_counts.index, orient='h', palette='flare')\n",
        "plt.xlabel('Number of variants')\n",
        "plt.ylabel('Variant Types')\n",
        "plt.title('Number of records of each variant types')\n",
        "plt.xticks(rotation=90)\n",
        "plt.tight_layout()\n",
        "plt.show()"
      ],
      "metadata": {
        "id": "GMaEIj_liuc3"
      },
      "execution_count": null,
      "outputs": []
    },
    {
      "cell_type": "markdown",
      "source": [
        "## Different chroms"
      ],
      "metadata": {
        "id": "km7WdjdAj-Rp"
      }
    },
    {
      "cell_type": "code",
      "source": [
        "# Chrom counts\n",
        "chrom_counts = pan_cancer_df['chrom'].value_counts().sample(frac=1, random_state=42)"
      ],
      "metadata": {
        "id": "2ahCLPdKjyhB"
      },
      "execution_count": null,
      "outputs": []
    },
    {
      "cell_type": "code",
      "source": [
        "# Graph of number of patients of each cancer types\n",
        "plt.figure(figsize=(12, 6))\n",
        "sns.barplot(x=chrom_counts.index, y=chrom_counts.values, palette='crest')\n",
        "plt.xlabel('Cancer Types')\n",
        "plt.ylabel('Number of Patients')\n",
        "plt.title('Number of patients of each cancer types')\n",
        "plt.xticks(rotation=90)\n",
        "plt.tight_layout()\n",
        "plt.show()"
      ],
      "metadata": {
        "id": "b7i_3eXDj51k"
      },
      "execution_count": null,
      "outputs": []
    },
    {
      "cell_type": "markdown",
      "source": [
        "## Variant type counts"
      ],
      "metadata": {
        "id": "qLA8E4iwqZiF"
      }
    },
    {
      "cell_type": "code",
      "source": [
        "# Variant type counts\n",
        "variant_type_counts = pan_cancer_df['variant_type'].value_counts()"
      ],
      "metadata": {
        "id": "zPZnWxbHlXjZ"
      },
      "execution_count": null,
      "outputs": []
    },
    {
      "cell_type": "code",
      "source": [
        "# Create a pie chart\n",
        "plt.figure(figsize=(5, 5))\n",
        "plt.pie(variant_type_counts, labels=variant_type_counts.index, autopct='%1.1f%%', startangle=140)\n",
        "\n",
        "# Add a title (optional)\n",
        "plt.title('Pie Chart of Variant Counts')\n",
        "\n",
        "# Show the plot\n",
        "plt.show()"
      ],
      "metadata": {
        "id": "C_b7z0JhmDpa"
      },
      "execution_count": null,
      "outputs": []
    },
    {
      "cell_type": "markdown",
      "source": [
        "## Gender distribution"
      ],
      "metadata": {
        "id": "YzZ4tqSaqjx6"
      }
    },
    {
      "cell_type": "code",
      "source": [
        "# Gender distribution\n",
        "gender_counts = pan_cancer_df['gender'].value_counts()"
      ],
      "metadata": {
        "id": "HD5uzGgcqt5M"
      },
      "execution_count": null,
      "outputs": []
    },
    {
      "cell_type": "code",
      "source": [
        "# Create a pie chart\n",
        "plt.figure(figsize=(5,5))\n",
        "plt.pie(gender_counts, labels=gender_counts.index)\n",
        "\n",
        "# Add a title (optional)\n",
        "plt.title('Pie Chart of Gender Counts')\n",
        "\n",
        "# Show the plot\n",
        "plt.show()"
      ],
      "metadata": {
        "id": "O74f7VFxqtsz"
      },
      "execution_count": null,
      "outputs": []
    },
    {
      "cell_type": "markdown",
      "source": [
        "## Outliers analysis"
      ],
      "metadata": {
        "id": "KHk-NJ4EIPqt"
      }
    },
    {
      "cell_type": "code",
      "source": [
        "## Calculate the IQR for the 'freq' column\n",
        "#Q1 = pan_cancer_df['freq'].quantile(0.25)\n",
        "#Q3 = pan_cancer_df['freq'].quantile(0.75)\n",
        "#IQR = Q3 - Q1\n",
        "#\n",
        "## Define the lower and upper bounds\n",
        "#lower_bound = Q1 - 1.5 * IQR\n",
        "#upper_bound = Q3 + 1.5 * IQR\n",
        "#\n",
        "## Filter the DataFrame to remove outliers\n",
        "#pan_cancer_df = pan_cancer_df[(pan_cancer_df['freq'] >= lower_bound) & (pan_cancer_df['freq'] <= upper_bound)]"
      ],
      "metadata": {
        "id": "yAAHzJBJIPYQ"
      },
      "execution_count": null,
      "outputs": []
    },
    {
      "cell_type": "code",
      "source": [
        "## Calculate the IQR for the 'freq' column\n",
        "#Q1 = pan_cancer_df['chromstart'].quantile(0.25)\n",
        "#Q3 = pan_cancer_df['chromstart'].quantile(0.75)\n",
        "#IQR = Q3 - Q1\n",
        "#\n",
        "## Define the lower and upper bounds\n",
        "#lower_bound = Q1 - 1.5 * IQR\n",
        "#upper_bound = Q3 + 1.5 * IQR\n",
        "#\n",
        "## Filter the DataFrame to remove outliers\n",
        "#pan_cancer_df = pan_cancer_df[(pan_cancer_df['chromstart'] >= lower_bound) & (pan_cancer_df['chromstart'] <= upper_bound)]"
      ],
      "metadata": {
        "id": "TdS6J_8aPvWi"
      },
      "execution_count": null,
      "outputs": []
    },
    {
      "cell_type": "code",
      "source": [
        "## Create a boxplot for the 'freq' column\n",
        "#plt.figure(figsize=(8, 6))\n",
        "#sns.boxplot(data=pan_cancer_df, y='chromend')\n",
        "#plt.title('Boxplot of freq Column')\n",
        "#plt.show()"
      ],
      "metadata": {
        "id": "5bQfPIu3IV3F"
      },
      "execution_count": null,
      "outputs": []
    },
    {
      "cell_type": "markdown",
      "source": [
        "# Label encoding"
      ],
      "metadata": {
        "id": "1uV_2wd13bRs"
      }
    },
    {
      "cell_type": "code",
      "source": [
        "# Label encoding\n",
        "le = LabelEncoder()\n",
        "\n",
        "# Iterate through columns and apply label encoding\n",
        "for column in pan_cancer_df.columns:\n",
        "    if pan_cancer_df[column].dtype == 'object':\n",
        "        pan_cancer_df[column] = le.fit_transform(pan_cancer_df[column])"
      ],
      "metadata": {
        "id": "MoHNDllnjXSi"
      },
      "execution_count": null,
      "outputs": []
    },
    {
      "cell_type": "markdown",
      "source": [
        "# Correlation matrix"
      ],
      "metadata": {
        "id": "BRwPoT6PwVqP"
      }
    },
    {
      "cell_type": "code",
      "source": [
        "# Correlation of 'cancer_type' with all features\n",
        "pan_cancer_df.corr()['cancer_type']"
      ],
      "metadata": {
        "id": "FjU18fruwXqE"
      },
      "execution_count": null,
      "outputs": []
    },
    {
      "cell_type": "code",
      "source": [
        "# Create the heatmap using the correlation matrix\n",
        "plt.figure(figsize=(8, 6))\n",
        "sns.heatmap(pan_cancer_df.corr(), linewidths=0.5)\n",
        "plt.title('Correlation Heatmap of Pan Cancer Features')\n",
        "plt.show()"
      ],
      "metadata": {
        "id": "VDf2GeVYwtqA"
      },
      "execution_count": null,
      "outputs": []
    },
    {
      "cell_type": "markdown",
      "source": [
        "# Feature selection"
      ],
      "metadata": {
        "id": "PzDHfSKxwTiZ"
      }
    },
    {
      "cell_type": "code",
      "source": [
        "# Select required features\n",
        "#pan_cancer_df = pan_cancer_df[['chrom', 'chromstart', 'chromend', 'name', 'freq', 'variant', 'variant_type', 'tumor_seq_allele2', 'gender', 'cancer_type']]\n",
        "pan_cancer_df.drop(columns='barcode', inplace=True)\n",
        "pan_cancer_df.head()"
      ],
      "metadata": {
        "id": "hCuzkSFBwS6c"
      },
      "execution_count": null,
      "outputs": []
    },
    {
      "cell_type": "markdown",
      "metadata": {
        "id": "vzQ_MSAbTJX9"
      },
      "source": [
        "# Split data"
      ]
    },
    {
      "cell_type": "markdown",
      "metadata": {
        "id": "nK3XYWErTSa6"
      },
      "source": [
        "## Test/Train split"
      ]
    },
    {
      "cell_type": "code",
      "execution_count": null,
      "metadata": {
        "id": "CTHoNgfcrjDe"
      },
      "outputs": [],
      "source": [
        "# Test/train dataframes\n",
        "pan_cancer_train_df = pd.DataFrame()\n",
        "pan_cancer_test_df = pd.DataFrame()\n",
        "\n",
        "# Get unique barcodes\n",
        "cancers = pan_cancer_df['cancer_type'].unique()\n",
        "\n",
        "# Split each unique cancer data into train and test\n",
        "for cancer in cancers:\n",
        "    cancer_data = pan_cancer_df[pan_cancer_df['cancer_type'] == cancer]\n",
        "\n",
        "    if len(cancer_data) > 1:\n",
        "      train_set, test_set = train_test_split(cancer_data, test_size=0.2, random_state=42)\n",
        "      pan_cancer_train_df = pd.concat([pan_cancer_train_df, train_set])\n",
        "      pan_cancer_test_df = pd.concat([pan_cancer_test_df, test_set])\n",
        "    else:\n",
        "      pan_cancer_train_df = pd.concat([pan_cancer_train_df, train_set])"
      ]
    },
    {
      "cell_type": "markdown",
      "metadata": {
        "id": "x3fPNW1rTOvs"
      },
      "source": [
        "## Independent/Dependent variables in training set"
      ]
    },
    {
      "cell_type": "code",
      "execution_count": null,
      "metadata": {
        "id": "AkFEhBM9LQat"
      },
      "outputs": [],
      "source": [
        "# Split data into dependent/independent variables\n",
        "X_train = pan_cancer_train_df.iloc[:, :-1].values\n",
        "y_train = pan_cancer_train_df.iloc[:, -1].values\n",
        "\n",
        "X_test = pan_cancer_test_df.iloc[:, :-1].values\n",
        "y_test = pan_cancer_test_df.iloc[:, -1].values"
      ]
    },
    {
      "cell_type": "markdown",
      "metadata": {
        "id": "JXD0o86ITuch"
      },
      "source": [
        "# Feature scaling"
      ]
    },
    {
      "cell_type": "code",
      "execution_count": null,
      "metadata": {
        "id": "FzbW6jzwLQU5"
      },
      "outputs": [],
      "source": [
        "# Scale dataset\n",
        "sc = StandardScaler()\n",
        "X_train = sc.fit_transform(X_train)\n",
        "X_test = sc.transform(X_test)"
      ]
    },
    {
      "cell_type": "markdown",
      "metadata": {
        "id": "P_oewloST4xi"
      },
      "source": [
        "# Train model"
      ]
    },
    {
      "cell_type": "markdown",
      "source": [
        "## Random Forest Classifier"
      ],
      "metadata": {
        "id": "l6eebDrRDMSp"
      }
    },
    {
      "cell_type": "code",
      "execution_count": null,
      "metadata": {
        "id": "m_KHJ4uIT4Mf"
      },
      "outputs": [],
      "source": [
        "# Random Forest Classifier\n",
        "rf_classifier = RandomForestClassifier(n_estimators=100, random_state=42)\n",
        "rf_classifier.fit(X_train, y_train)"
      ]
    },
    {
      "cell_type": "markdown",
      "source": [
        "## Support Vector Machine Classifier"
      ],
      "metadata": {
        "id": "Hhg7raoPDQ3G"
      }
    },
    {
      "cell_type": "code",
      "source": [
        "# Support Vector Machine (SVM) Classifier\n",
        "svm_classifier = SVC(kernel='linear', C=1.0)\n",
        "svm_classifier.fit(X_train, y_train)"
      ],
      "metadata": {
        "id": "bUfGU12BDO3k"
      },
      "execution_count": null,
      "outputs": []
    },
    {
      "cell_type": "markdown",
      "source": [
        "## XGBoost Classifier"
      ],
      "metadata": {
        "id": "KALgVjEpDVWm"
      }
    },
    {
      "cell_type": "code",
      "source": [
        "# XGBoost Classifier\n",
        "xgb_classifier = xgb.XGBClassifier(objective=\"multi:softmax\", num_class=20, n_estimators=100, random_state=42)\n",
        "xgb_classifier.fit(X_train, y_train)"
      ],
      "metadata": {
        "id": "BFOisqjrDTp3"
      },
      "execution_count": null,
      "outputs": []
    },
    {
      "cell_type": "markdown",
      "metadata": {
        "id": "CMaiHBhDUVWC"
      },
      "source": [
        "# Predict result"
      ]
    },
    {
      "cell_type": "code",
      "execution_count": null,
      "metadata": {
        "id": "hIBFxFkLUCOB"
      },
      "outputs": [],
      "source": [
        "# Random Forest\n",
        "rf_pred = rf_classifier.predict(X_test)\n",
        "\n",
        "# SVM\n",
        "svm_pred = svm_classifier.predict(X_test)\n",
        "\n",
        "# XGBoost\n",
        "xgb_pred = xgb_classifier.predict(X_test)"
      ]
    },
    {
      "cell_type": "markdown",
      "metadata": {
        "id": "mD0rI1Y2UZZH"
      },
      "source": [
        "# Evaluate model"
      ]
    },
    {
      "cell_type": "markdown",
      "metadata": {
        "id": "iI04TUQpUdA3"
      },
      "source": [
        "## Accuracy"
      ]
    },
    {
      "cell_type": "code",
      "execution_count": null,
      "metadata": {
        "id": "30Xim_hiUCKd"
      },
      "outputs": [],
      "source": [
        "# Random Forest\n",
        "rf_accuracy = accuracy_score(y_test, rf_pred)\n",
        "print(f\"Random Forest Classifier Accuracy: {rf_accuracy}\")\n",
        "\n",
        "# SVM\n",
        "svm_accuracy = accuracy_score(y_test, svm_pred)\n",
        "print(f\"SVM Classifier Accuracy: {svm_accuracy}\")\n",
        "\n",
        "# XGBoost\n",
        "xgb_accuracy = accuracy_score(y_test, xgb_pred)\n",
        "print(f\"XGBoost Classifier Accuracy: {xgb_accuracy}\")"
      ]
    },
    {
      "cell_type": "markdown",
      "metadata": {
        "id": "aLKljrH1Uk0F"
      },
      "source": [
        "## Classification report"
      ]
    },
    {
      "cell_type": "code",
      "execution_count": null,
      "metadata": {
        "id": "mhLU76LNUCHP"
      },
      "outputs": [],
      "source": [
        "# Random Forest Classifier\n",
        "rf_report = classification_report(y_test, rf_pred)\n",
        "print(\"Random Forest Classifier Classification Report:\\n\")\n",
        "print(rf_report)\n",
        "\n",
        "# Support Vector Machine (SVM) Classifier\n",
        "svm_report = classification_report(y_test, svm_pred)\n",
        "print(\"\\nSVM Classifier Classification Report:\\n\")\n",
        "print(svm_report)\n",
        "\n",
        "# XGBoost Classifier\n",
        "xgb_report = classification_report(y_test, xgb_pred)\n",
        "print(\"\\nXGBoost Classifier Classification Report:\\n\")\n",
        "print(xgb_report)"
      ]
    },
    {
      "cell_type": "markdown",
      "metadata": {
        "id": "ZW7e7NhwUr7M"
      },
      "source": [
        "## F1 score"
      ]
    },
    {
      "cell_type": "code",
      "execution_count": null,
      "metadata": {
        "id": "1ACCNYXyUCEQ"
      },
      "outputs": [],
      "source": [
        "# Calculate the F1 score for each classifier\n",
        "rf_f1 = f1_score(y_test, rf_pred, average='weighted')\n",
        "svm_f1 = f1_score(y_test, svm_pred, average='weighted')\n",
        "xgb_f1 = f1_score(y_test, xgb_pred, average='weighted')\n",
        "\n",
        "# Print the F1 scores\n",
        "print(f\"Random Forest Classifier F1 Score: {rf_f1:.4f}\")\n",
        "print(f\"SVM Classifier F1 Score: {svm_f1:.4f}\")\n",
        "print(f\"XGBoost Classifier F1 Score: {xgb_f1:.4f}\")"
      ]
    },
    {
      "cell_type": "markdown",
      "metadata": {
        "id": "kKZrR7EnU4G5"
      },
      "source": [
        "## Confusion matrix"
      ]
    },
    {
      "cell_type": "code",
      "source": [
        "from sklearn.metrics import confusion_matrix\n",
        "\n",
        "# Calculate the confusion matrix for each classifier\n",
        "rf_confusion_matrix = confusion_matrix(y_test, rf_pred)\n",
        "svm_confusion_matrix = confusion_matrix(y_test, svm_pred)\n",
        "xgb_confusion_matrix = confusion_matrix(y_test, xgb_pred)\n",
        "\n",
        "# Create a visually appealing confusion matrix using seaborn\n",
        "sns.set(font_scale=0.8)  # Adjust the font size for readability\n",
        "sns.heatmap(rf_confusion_matrix, annot=True, fmt=\"d\", cmap=\"Blues\", cbar=False,\n",
        "            xticklabels=[\"Predicted Negative\", \"Predicted Positive\"],\n",
        "            yticklabels=[\"Actual Negative\", \"Actual Positive\"])\n",
        "\n",
        "plt.xlabel(\"Predicted\")\n",
        "plt.ylabel(\"Actual\")\n",
        "plt.title(\"Confusion Matrix\")"
      ],
      "metadata": {
        "id": "SrrJvsCgbtTA"
      },
      "execution_count": null,
      "outputs": []
    },
    {
      "cell_type": "markdown",
      "metadata": {
        "id": "XfsWvE2yVD3W"
      },
      "source": [
        "## Precision-Recall curve"
      ]
    },
    {
      "cell_type": "code",
      "execution_count": null,
      "metadata": {
        "id": "6xTQdgswU31_"
      },
      "outputs": [],
      "source": [
        "# Binarize the labels for multi-class classification\n",
        "y_test_bin = label_binarize(y_test, classes=[0, 1, 2, 3, 4, 5, 6, 7, 8, 9, 10, 11, 12, 13, 14, 15, 16, 17, 18, 19])\n",
        "\n",
        "# Calculate and plot Precision-Recall curves for each class\n",
        "plt.figure(figsize=(10, 6))\n",
        "for class_label in range(20):\n",
        "    # Calculate precision and recall for each classifier for the current class\n",
        "    rf_precision, rf_recall, _ = precision_recall_curve(y_test_bin[:, class_label], rf_classifier.predict_proba(X_test)[:, class_label])\n",
        "    svm_decision_function = svm_classifier.decision_function(X_test)\n",
        "    svm_precision, svm_recall, _ = precision_recall_curve(y_test_bin[:, class_label], svm_decision_function[:, class_label])\n",
        "    xgb_precision, xgb_recall, _ = precision_recall_curve(y_test_bin[:, class_label], xgb_classifier.predict_proba(X_test)[:, class_label])\n",
        "\n",
        "    # Plot Precision-Recall curve for the current class\n",
        "    plt.plot(rf_recall, rf_precision, label=f\"Random Forest (Class {class_label})\", color='b')\n",
        "    plt.plot(svm_recall, svm_precision, label=f\"SVM (Class {class_label})\", color='g')\n",
        "    plt.plot(xgb_recall, xgb_precision, label=f\"XGBoost (Class {class_label})\", color='r')\n",
        "\n",
        "plt.xlabel(\"Recall\")\n",
        "plt.ylabel(\"Precision\")\n",
        "plt.title(\"Precision-Recall Curve (Multi-class)\")\n",
        "plt.legend(loc='best')\n",
        "plt.grid()\n",
        "plt.show()"
      ]
    },
    {
      "cell_type": "markdown",
      "metadata": {
        "id": "BaPGKbg3V7ip"
      },
      "source": [
        "## AUC/ROC curve"
      ]
    },
    {
      "cell_type": "code",
      "execution_count": null,
      "metadata": {
        "id": "F1KyVIWAU3yw"
      },
      "outputs": [],
      "source": [
        "# Calculate ROC curve and AUC for Random Forest Classifier\n",
        "rf_probs = rf_classifier.predict_proba(X_test)[:, 1]\n",
        "rf_fpr, rf_tpr, _ = roc_curve(y_test, rf_probs)\n",
        "rf_auc = roc_auc_score(y_test, rf_probs)\n",
        "\n",
        "# Calculate ROC curve and AUC for SVM Classifier\n",
        "svm_probs = svm_classifier.decision_function(X_test)\n",
        "svm_fpr, svm_tpr, _ = roc_curve(y_test, svm_probs)\n",
        "svm_auc = roc_auc_score(y_test, svm_probs)\n",
        "\n",
        "# Calculate ROC curve and AUC for XGBoost Classifier\n",
        "xgb_probs = xgb_classifier.predict_proba(X_test)[:, 1]\n",
        "xgb_fpr, xgb_tpr, _ = roc_curve(y_test, xgb_probs)\n",
        "xgb_auc = roc_auc_score(y_test, xgb_probs)\n",
        "\n",
        "# Plot ROC curves\n",
        "plt.figure(figsize=(10, 6))\n",
        "plt.plot(rf_fpr, rf_tpr, label=f\"Random Forest (AUC = {rf_auc:.2f})\", color='b')\n",
        "plt.plot(svm_fpr, svm_tpr, label=f\"SVM (AUC = {svm_auc:.2f})\", color='g')\n",
        "plt.plot(xgb_fpr, xgb_tpr, label=f\"XGBoost (AUC = {xgb_auc:.2f})\", color='r')\n",
        "plt.plot([0, 1], [0, 1], 'k--', color='gray', label=\"Random\")\n",
        "plt.xlabel(\"False Positive Rate\")\n",
        "plt.ylabel(\"True Positive Rate\")\n",
        "plt.title(\"ROC Curve\")\n",
        "plt.legend(loc='best')\n",
        "plt.grid()\n",
        "plt.show()"
      ]
    },
    {
      "cell_type": "markdown",
      "source": [
        "# Conclusion"
      ],
      "metadata": {
        "id": "ZJ-bHp2vFna0"
      }
    },
    {
      "cell_type": "markdown",
      "source": [
        "# References"
      ],
      "metadata": {
        "id": "gWT1SXItFtgQ"
      }
    }
  ],
  "metadata": {
    "colab": {
      "provenance": []
    },
    "kernelspec": {
      "display_name": "Python 3",
      "name": "python3"
    },
    "language_info": {
      "name": "python"
    }
  },
  "nbformat": 4,
  "nbformat_minor": 0
}